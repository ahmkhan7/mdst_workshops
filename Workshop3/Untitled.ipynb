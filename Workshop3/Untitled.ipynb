{
 "cells": [
  {
   "cell_type": "code",
   "execution_count": 1,
   "metadata": {},
   "outputs": [],
   "source": [
    "import pandas as pd\n",
    "import numpy as np\n",
    "import matplotlib.pyplot\n",
    "from scipy import stats"
   ]
  },
  {
   "cell_type": "code",
   "execution_count": 2,
   "metadata": {},
   "outputs": [],
   "source": [
    "df = pd.read_csv(\"HospitalAdmissionsData.csv\")"
   ]
  },
  {
   "cell_type": "code",
   "execution_count": 3,
   "metadata": {},
   "outputs": [
    {
     "name": "stdout",
     "output_type": "stream",
     "text": [
      "ID\n",
      "AdmissionLengthDays\n",
      "Death_1\n",
      "Admission_Type\n",
      "Insurance_Type\n",
      "EnglishLanguage_1\n",
      "Religion_Type\n",
      "Married_1\n",
      "Race\n",
      "Dx\n"
     ]
    }
   ],
   "source": [
    "#What are the column headers or features in this data set?\n",
    "for i in df.columns:\n",
    "    print (i)"
   ]
  },
  {
   "cell_type": "code",
   "execution_count": 4,
   "metadata": {},
   "outputs": [
    {
     "name": "stdout",
     "output_type": "stream",
     "text": [
      "<class 'pandas.core.frame.DataFrame'>\n",
      "RangeIndex: 58863 entries, 0 to 58862\n",
      "Data columns (total 10 columns):\n",
      " #   Column               Non-Null Count  Dtype  \n",
      "---  ------               --------------  -----  \n",
      " 0   ID                   58863 non-null  int64  \n",
      " 1   AdmissionLengthDays  58863 non-null  float64\n",
      " 2   Death_1              58863 non-null  int64  \n",
      " 3   Admission_Type       58863 non-null  object \n",
      " 4   Insurance_Type       58863 non-null  object \n",
      " 5   EnglishLanguage_1    58863 non-null  int64  \n",
      " 6   Religion_Type        58408 non-null  object \n",
      " 7   Married_1            58863 non-null  int64  \n",
      " 8   Race                 58863 non-null  object \n",
      " 9   Dx                   58863 non-null  object \n",
      "dtypes: float64(1), int64(4), object(5)\n",
      "memory usage: 4.5+ MB\n"
     ]
    }
   ],
   "source": [
    "#How many features are floats? How many are integers?\n",
    "#Which features are objects (non-numeric variables)?\n",
    "df.info()"
   ]
  },
  {
   "cell_type": "code",
   "execution_count": 5,
   "metadata": {},
   "outputs": [
    {
     "name": "stdout",
     "output_type": "stream",
     "text": [
      "private\n",
      "medicare\n",
      "government\n",
      "medicaid\n",
      "self pay\n"
     ]
    }
   ],
   "source": [
    "#What are the possible 'values' for insurance type?\n",
    "for i in df[\"Insurance_Type\"].unique():\n",
    "    print(i)"
   ]
  },
  {
   "cell_type": "code",
   "execution_count": 6,
   "metadata": {},
   "outputs": [
    {
     "data": {
      "text/plain": [
       "count    58863.000000\n",
       "mean        10.138978\n",
       "std         12.465611\n",
       "min         -0.945139\n",
       "25%          3.743056\n",
       "50%          6.465972\n",
       "75%         11.798264\n",
       "max        294.660417\n",
       "Name: AdmissionLengthDays, dtype: float64"
      ]
     },
     "execution_count": 6,
     "metadata": {},
     "output_type": "execute_result"
    }
   ],
   "source": [
    "#Show the summary statistics for the admission length.\n",
    "df[\"AdmissionLengthDays\"].describe()"
   ]
  },
  {
   "cell_type": "code",
   "execution_count": 7,
   "metadata": {},
   "outputs": [
    {
     "name": "stdout",
     "output_type": "stream",
     "text": [
      "Admission:  41987\n",
      "Insurance:  28157\n",
      "Religion:  20561\n",
      "Race:  40927\n",
      "Dx:  7823\n"
     ]
    }
   ],
   "source": [
    "#What is the most common admission type, insurance type, religion type, race, and diagnosis (Dx)?\n",
    "print(\"Admission: \", df[\"Admission_Type\"].value_counts().max())\n",
    "print(\"Insurance: \", df[\"Insurance_Type\"].value_counts().max())\n",
    "print(\"Religion: \", df[\"Religion_Type\"].value_counts().max())\n",
    "print(\"Race: \", df[\"Race\"].value_counts().max())\n",
    "print(\"Dx: \", df[\"Dx\"].value_counts().max())"
   ]
  },
  {
   "cell_type": "code",
   "execution_count": 8,
   "metadata": {},
   "outputs": [
    {
     "data": {
      "image/png": "[encoded data removed]",
      "text/plain": [
       "<Figure size 432x288 with 1 Axes>"
      ]
     },
     "metadata": {
      "needs_background": "light"
     },
     "output_type": "display_data"
    }
   ],
   "source": [
    "#Show a histogram for admission days\n",
    "import numpy as np\n",
    "import matplotlib.pyplot as plt\n",
    "\n",
    "df.hist(column = \"AdmissionLengthDays\", grid = False)\n",
    "plt.title(\"Admission length days by number of patients\")\n",
    "plt.xlabel('Admission length days')\n",
    "plt.ylabel('Number of patients')\n",
    "plt.tight_layout()"
   ]
  },
  {
   "cell_type": "code",
   "execution_count": 9,
   "metadata": {},
   "outputs": [
    {
     "data": {
      "image/png": "[encoded data removed]",
      "text/plain": [
       "<Figure size 432x288 with 1 Axes>"
      ]
     },
     "metadata": {
      "needs_background": "light"
     },
     "output_type": "display_data"
    }
   ],
   "source": [
    "#Show a histogram for days on a log scale\n",
    "import numpy as np\n",
    "import matplotlib.pyplot as plt\n",
    "\n",
    "df.hist(column = \"AdmissionLengthDays\",label = True, sharex = True, grid = False)\n",
    "plt.title(\"Admission Length Days by Number of Patients\")\n",
    "plt.xlabel(\"Admission Length in Days\")\n",
    "plt.ylabel(\"Number of Patients\")\n",
    "plt.yscale('log', nonposy='clip')\n",
    "\n",
    "plt.tight_layout()"
   ]
  },
  {
   "cell_type": "code",
   "execution_count": 10,
   "metadata": {},
   "outputs": [],
   "source": [
    "#Describe what you see\n",
    "\n",
    "#Answer: I see that most of the patients stayed for a relatively short period of time (<25 days).\n",
    "#The data isn't spread out that much"
   ]
  },
  {
   "cell_type": "code",
   "execution_count": 11,
   "metadata": {},
   "outputs": [
    {
     "data": {
      "text/plain": [
       "Text(0.5, 0, 'Survival Status (1 = Dead)')"
      ]
     },
     "execution_count": 11,
     "metadata": {},
     "output_type": "execute_result"
    },
    {
     "data": {
      "image/png": "[encoded data removed]",
      "text/plain": [
       "<Figure size 432x288 with 1 Axes>"
      ]
     },
     "metadata": {
      "needs_background": "light"
     },
     "output_type": "display_data"
    }
   ],
   "source": [
    "trainbar = df.groupby('Death_1').mean()\n",
    "trainbar.plot.bar(y = ['AdmissionLengthDays'])\n",
    "plt.title('Average Admission Length by Survival Status')\n",
    "plt.ylabel(\"Average Admission Length in Days\")\n",
    "plt.xlabel(\"Survival Status (1 = Dead)\")"
   ]
  },
  {
   "cell_type": "code",
   "execution_count": 24,
   "metadata": {},
   "outputs": [
    {
     "name": "stdout",
     "output_type": "stream",
     "text": [
      "Private:  0.06132954646312239\n",
      "Government:  0.05053340819764177\n",
      "Medicare:  0.13865113470895338\n",
      "Medicaid:  0.065905552672548\n"
     ]
    }
   ],
   "source": [
    "#Describe the association between death and insurance type and show a visualization or test\n",
    "\n",
    "x = df[df[\"Insurance_Type\"] == \"private\"]\n",
    "print(\"Private: \", x[\"Death_1\"].mean())\n",
    "\n",
    "x = df[df[\"Insurance_Type\"] == \"government\"]\n",
    "print(\"Government: \", x[\"Death_1\"].mean())\n",
    "\n",
    "x = df[df[\"Insurance_Type\"] == \"medicare\"]\n",
    "print(\"Medicare: \", x[\"Death_1\"].mean())\n",
    "\n",
    "x = df[df[\"Insurance_Type\"] == \"medicaid\"]\n",
    "print(\"Medicaid: \", x[\"Death_1\"].mean())\n",
    "\n",
    "#Answer: People with Medicaid were twice as likely to die as everyone else"
   ]
  },
  {
   "cell_type": "code",
   "execution_count": null,
   "metadata": {},
   "outputs": [],
   "source": []
  }
 ],
 "metadata": {
  "kernelspec": {
   "display_name": "Python 3",
   "language": "python",
   "name": "python3"
  },
  "language_info": {
   "codemirror_mode": {
    "name": "ipython",
    "version": 3
   },
   "file_extension": ".py",
   "mimetype": "text/x-python",
   "name": "python",
   "nbconvert_exporter": "python",
   "pygments_lexer": "ipython3",
   "version": "3.6.9"
  }
 },
 "nbformat": 4,
 "nbformat_minor": 4
}
